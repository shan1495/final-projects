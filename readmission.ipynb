{
 "cells": [
  {
   "cell_type": "markdown",
   "id": "d842672a-fb31-4a0d-852a-e52e033f18f5",
   "metadata": {},
   "source": [
    "# Final Project 2 - GUVI Hospital Readmission prediction"
   ]
  },
  {
   "cell_type": "code",
   "execution_count": 2,
   "id": "e8710232-e238-46ea-b7ee-adc8ed228223",
   "metadata": {},
   "outputs": [],
   "source": [
    "import pandas as pd\n",
    "import numpy as np\n",
    "import matplotlib.pyplot as plt\n",
    "import seaborn as sns\n",
    "from sklearn.metrics import roc_auc_score\n",
    "from sklearn.preprocessing import LabelEncoder"
   ]
  },
  {
   "cell_type": "code",
   "execution_count": 3,
   "id": "2c99bdd3-0f25-4a4d-b3b8-d6d6ddd9eb1a",
   "metadata": {},
   "outputs": [
    {
     "data": {
      "text/html": [
       "<div>\n",
       "<style scoped>\n",
       "    .dataframe tbody tr th:only-of-type {\n",
       "        vertical-align: middle;\n",
       "    }\n",
       "\n",
       "    .dataframe tbody tr th {\n",
       "        vertical-align: top;\n",
       "    }\n",
       "\n",
       "    .dataframe thead th {\n",
       "        text-align: right;\n",
       "    }\n",
       "</style>\n",
       "<table border=\"1\" class=\"dataframe\">\n",
       "  <thead>\n",
       "    <tr style=\"text-align: right;\">\n",
       "      <th></th>\n",
       "      <th>Patient_ID</th>\n",
       "      <th>Age</th>\n",
       "      <th>Gender</th>\n",
       "      <th>Admission_Type</th>\n",
       "      <th>Diagnosis</th>\n",
       "      <th>Num_Lab_Procedures</th>\n",
       "      <th>Num_Medications</th>\n",
       "      <th>Num_Outpatient_Visits</th>\n",
       "      <th>Num_Inpatient_Visits</th>\n",
       "      <th>Num_Emergency_Visits</th>\n",
       "      <th>Num_Diagnoses</th>\n",
       "      <th>A1C_Result</th>\n",
       "      <th>Readmitted</th>\n",
       "    </tr>\n",
       "  </thead>\n",
       "  <tbody>\n",
       "    <tr>\n",
       "      <th>0</th>\n",
       "      <td>1</td>\n",
       "      <td>69</td>\n",
       "      <td>Other</td>\n",
       "      <td>Emergency</td>\n",
       "      <td>Heart Disease</td>\n",
       "      <td>33</td>\n",
       "      <td>2</td>\n",
       "      <td>4</td>\n",
       "      <td>1</td>\n",
       "      <td>1</td>\n",
       "      <td>5</td>\n",
       "      <td>NaN</td>\n",
       "      <td>Yes</td>\n",
       "    </tr>\n",
       "    <tr>\n",
       "      <th>1</th>\n",
       "      <td>2</td>\n",
       "      <td>32</td>\n",
       "      <td>Female</td>\n",
       "      <td>Urgent</td>\n",
       "      <td>Diabetes</td>\n",
       "      <td>81</td>\n",
       "      <td>10</td>\n",
       "      <td>4</td>\n",
       "      <td>4</td>\n",
       "      <td>1</td>\n",
       "      <td>6</td>\n",
       "      <td>NaN</td>\n",
       "      <td>No</td>\n",
       "    </tr>\n",
       "    <tr>\n",
       "      <th>2</th>\n",
       "      <td>3</td>\n",
       "      <td>78</td>\n",
       "      <td>Female</td>\n",
       "      <td>Urgent</td>\n",
       "      <td>Heart Disease</td>\n",
       "      <td>75</td>\n",
       "      <td>29</td>\n",
       "      <td>4</td>\n",
       "      <td>0</td>\n",
       "      <td>3</td>\n",
       "      <td>5</td>\n",
       "      <td>Normal</td>\n",
       "      <td>No</td>\n",
       "    </tr>\n",
       "    <tr>\n",
       "      <th>3</th>\n",
       "      <td>4</td>\n",
       "      <td>38</td>\n",
       "      <td>Male</td>\n",
       "      <td>Elective</td>\n",
       "      <td>Diabetes</td>\n",
       "      <td>77</td>\n",
       "      <td>11</td>\n",
       "      <td>2</td>\n",
       "      <td>3</td>\n",
       "      <td>4</td>\n",
       "      <td>9</td>\n",
       "      <td>NaN</td>\n",
       "      <td>Yes</td>\n",
       "    </tr>\n",
       "    <tr>\n",
       "      <th>4</th>\n",
       "      <td>5</td>\n",
       "      <td>41</td>\n",
       "      <td>Female</td>\n",
       "      <td>Urgent</td>\n",
       "      <td>Diabetes</td>\n",
       "      <td>50</td>\n",
       "      <td>25</td>\n",
       "      <td>3</td>\n",
       "      <td>4</td>\n",
       "      <td>1</td>\n",
       "      <td>3</td>\n",
       "      <td>NaN</td>\n",
       "      <td>Yes</td>\n",
       "    </tr>\n",
       "    <tr>\n",
       "      <th>5</th>\n",
       "      <td>6</td>\n",
       "      <td>20</td>\n",
       "      <td>Male</td>\n",
       "      <td>Elective</td>\n",
       "      <td>Injury</td>\n",
       "      <td>11</td>\n",
       "      <td>20</td>\n",
       "      <td>3</td>\n",
       "      <td>4</td>\n",
       "      <td>1</td>\n",
       "      <td>3</td>\n",
       "      <td>NaN</td>\n",
       "      <td>No</td>\n",
       "    </tr>\n",
       "    <tr>\n",
       "      <th>6</th>\n",
       "      <td>7</td>\n",
       "      <td>39</td>\n",
       "      <td>Female</td>\n",
       "      <td>Elective</td>\n",
       "      <td>Heart Disease</td>\n",
       "      <td>95</td>\n",
       "      <td>16</td>\n",
       "      <td>2</td>\n",
       "      <td>4</td>\n",
       "      <td>3</td>\n",
       "      <td>7</td>\n",
       "      <td>NaN</td>\n",
       "      <td>Yes</td>\n",
       "    </tr>\n",
       "    <tr>\n",
       "      <th>7</th>\n",
       "      <td>8</td>\n",
       "      <td>70</td>\n",
       "      <td>Female</td>\n",
       "      <td>Elective</td>\n",
       "      <td>Heart Disease</td>\n",
       "      <td>28</td>\n",
       "      <td>19</td>\n",
       "      <td>4</td>\n",
       "      <td>0</td>\n",
       "      <td>3</td>\n",
       "      <td>7</td>\n",
       "      <td>Normal</td>\n",
       "      <td>Yes</td>\n",
       "    </tr>\n",
       "    <tr>\n",
       "      <th>8</th>\n",
       "      <td>9</td>\n",
       "      <td>19</td>\n",
       "      <td>Male</td>\n",
       "      <td>Urgent</td>\n",
       "      <td>Infection</td>\n",
       "      <td>70</td>\n",
       "      <td>23</td>\n",
       "      <td>1</td>\n",
       "      <td>2</td>\n",
       "      <td>4</td>\n",
       "      <td>6</td>\n",
       "      <td>Normal</td>\n",
       "      <td>No</td>\n",
       "    </tr>\n",
       "    <tr>\n",
       "      <th>9</th>\n",
       "      <td>10</td>\n",
       "      <td>47</td>\n",
       "      <td>Male</td>\n",
       "      <td>Emergency</td>\n",
       "      <td>Injury</td>\n",
       "      <td>41</td>\n",
       "      <td>24</td>\n",
       "      <td>4</td>\n",
       "      <td>0</td>\n",
       "      <td>0</td>\n",
       "      <td>3</td>\n",
       "      <td>Abnormal</td>\n",
       "      <td>No</td>\n",
       "    </tr>\n",
       "  </tbody>\n",
       "</table>\n",
       "</div>"
      ],
      "text/plain": [
       "   Patient_ID  Age  Gender Admission_Type      Diagnosis  Num_Lab_Procedures  \\\n",
       "0           1   69   Other      Emergency  Heart Disease                  33   \n",
       "1           2   32  Female         Urgent       Diabetes                  81   \n",
       "2           3   78  Female         Urgent  Heart Disease                  75   \n",
       "3           4   38    Male       Elective       Diabetes                  77   \n",
       "4           5   41  Female         Urgent       Diabetes                  50   \n",
       "5           6   20    Male       Elective         Injury                  11   \n",
       "6           7   39  Female       Elective  Heart Disease                  95   \n",
       "7           8   70  Female       Elective  Heart Disease                  28   \n",
       "8           9   19    Male         Urgent      Infection                  70   \n",
       "9          10   47    Male      Emergency         Injury                  41   \n",
       "\n",
       "   Num_Medications  Num_Outpatient_Visits  Num_Inpatient_Visits  \\\n",
       "0                2                      4                     1   \n",
       "1               10                      4                     4   \n",
       "2               29                      4                     0   \n",
       "3               11                      2                     3   \n",
       "4               25                      3                     4   \n",
       "5               20                      3                     4   \n",
       "6               16                      2                     4   \n",
       "7               19                      4                     0   \n",
       "8               23                      1                     2   \n",
       "9               24                      4                     0   \n",
       "\n",
       "   Num_Emergency_Visits  Num_Diagnoses A1C_Result Readmitted  \n",
       "0                     1              5        NaN        Yes  \n",
       "1                     1              6        NaN         No  \n",
       "2                     3              5     Normal         No  \n",
       "3                     4              9        NaN        Yes  \n",
       "4                     1              3        NaN        Yes  \n",
       "5                     1              3        NaN         No  \n",
       "6                     3              7        NaN        Yes  \n",
       "7                     3              7     Normal        Yes  \n",
       "8                     4              6     Normal         No  \n",
       "9                     0              3   Abnormal         No  "
      ]
     },
     "execution_count": 3,
     "metadata": {},
     "output_type": "execute_result"
    }
   ],
   "source": [
    "df = pd.read_csv('hospital_readmissions.csv')\n",
    "df.head(10)"
   ]
  },
  {
   "cell_type": "code",
   "execution_count": 57,
   "id": "6ae7cdfa-0ac9-47bc-978b-65b3c990645f",
   "metadata": {},
   "outputs": [
    {
     "name": "stdout",
     "output_type": "stream",
     "text": [
      "<class 'pandas.core.frame.DataFrame'>\n",
      "RangeIndex: 1000 entries, 0 to 999\n",
      "Data columns (total 13 columns):\n",
      " #   Column                 Non-Null Count  Dtype \n",
      "---  ------                 --------------  ----- \n",
      " 0   Patient_ID             1000 non-null   int64 \n",
      " 1   Age                    1000 non-null   int64 \n",
      " 2   Gender                 1000 non-null   object\n",
      " 3   Admission_Type         1000 non-null   object\n",
      " 4   Diagnosis              1000 non-null   object\n",
      " 5   Num_Lab_Procedures     1000 non-null   int64 \n",
      " 6   Num_Medications        1000 non-null   int64 \n",
      " 7   Num_Outpatient_Visits  1000 non-null   int64 \n",
      " 8   Num_Inpatient_Visits   1000 non-null   int64 \n",
      " 9   Num_Emergency_Visits   1000 non-null   int64 \n",
      " 10  Num_Diagnoses          1000 non-null   int64 \n",
      " 11  A1C_Result             566 non-null    object\n",
      " 12  Readmitted             1000 non-null   object\n",
      "dtypes: int64(8), object(5)\n",
      "memory usage: 101.7+ KB\n"
     ]
    }
   ],
   "source": [
    "df.info()"
   ]
  },
  {
   "cell_type": "code",
   "execution_count": 58,
   "id": "88b3b2c4-de9f-498f-ba30-1ef791a573dc",
   "metadata": {},
   "outputs": [
    {
     "data": {
      "text/plain": [
       "<Axes: xlabel='Gender'>"
      ]
     },
     "execution_count": 58,
     "metadata": {},
     "output_type": "execute_result"
    },
    {
     "data": {
      "image/png": "[encoded data removed]",
      "text/plain": [
       "<Figure size 640x480 with 1 Axes>"
      ]
     },
     "metadata": {},
     "output_type": "display_data"
    }
   ],
   "source": [
    "df.groupby(['Gender']).size().plot(kind='bar')"
   ]
  },
  {
   "cell_type": "code",
   "execution_count": 59,
   "id": "97c7b976-9638-4e9b-a3a5-8f99d71ccab4",
   "metadata": {},
   "outputs": [],
   "source": [
    "encoder = LabelEncoder()\n",
    "encoded = encoder.fit_transform(df['Gender'])\n",
    "df['En_Gender'] = encoded\n",
    "encoded = encoder.fit_transform(df['Diagnosis'])\n",
    "df['En_Diagnosis'] = encoded\n",
    "encoded = encoder.fit_transform(df['Admission_Type'])\n",
    "df['EAdmission_Type'] = encoded\n",
    "encoded = encoder.fit_transform(df['Readmitted'])\n",
    "df['EReadmit'] = encoded"
   ]
  },
  {
   "cell_type": "code",
   "execution_count": 60,
   "id": "2759642b-49af-4797-95de-aea0cbcf65a1",
   "metadata": {},
   "outputs": [
    {
     "data": {
      "text/html": [
       "<div>\n",
       "<style scoped>\n",
       "    .dataframe tbody tr th:only-of-type {\n",
       "        vertical-align: middle;\n",
       "    }\n",
       "\n",
       "    .dataframe tbody tr th {\n",
       "        vertical-align: top;\n",
       "    }\n",
       "\n",
       "    .dataframe thead th {\n",
       "        text-align: right;\n",
       "    }\n",
       "</style>\n",
       "<table border=\"1\" class=\"dataframe\">\n",
       "  <thead>\n",
       "    <tr style=\"text-align: right;\">\n",
       "      <th></th>\n",
       "      <th>Patient_ID</th>\n",
       "      <th>Age</th>\n",
       "      <th>Gender</th>\n",
       "      <th>Admission_Type</th>\n",
       "      <th>Diagnosis</th>\n",
       "      <th>Num_Lab_Procedures</th>\n",
       "      <th>Num_Medications</th>\n",
       "      <th>Num_Outpatient_Visits</th>\n",
       "      <th>Num_Inpatient_Visits</th>\n",
       "      <th>Num_Emergency_Visits</th>\n",
       "      <th>Num_Diagnoses</th>\n",
       "      <th>A1C_Result</th>\n",
       "      <th>Readmitted</th>\n",
       "      <th>En_Gender</th>\n",
       "      <th>En_Diagnosis</th>\n",
       "      <th>EAdmission_Type</th>\n",
       "      <th>EReadmit</th>\n",
       "    </tr>\n",
       "  </thead>\n",
       "  <tbody>\n",
       "    <tr>\n",
       "      <th>0</th>\n",
       "      <td>1</td>\n",
       "      <td>69</td>\n",
       "      <td>Other</td>\n",
       "      <td>Emergency</td>\n",
       "      <td>Heart Disease</td>\n",
       "      <td>33</td>\n",
       "      <td>2</td>\n",
       "      <td>4</td>\n",
       "      <td>1</td>\n",
       "      <td>1</td>\n",
       "      <td>5</td>\n",
       "      <td>NaN</td>\n",
       "      <td>Yes</td>\n",
       "      <td>2</td>\n",
       "      <td>1</td>\n",
       "      <td>1</td>\n",
       "      <td>1</td>\n",
       "    </tr>\n",
       "    <tr>\n",
       "      <th>1</th>\n",
       "      <td>2</td>\n",
       "      <td>32</td>\n",
       "      <td>Female</td>\n",
       "      <td>Urgent</td>\n",
       "      <td>Diabetes</td>\n",
       "      <td>81</td>\n",
       "      <td>10</td>\n",
       "      <td>4</td>\n",
       "      <td>4</td>\n",
       "      <td>1</td>\n",
       "      <td>6</td>\n",
       "      <td>NaN</td>\n",
       "      <td>No</td>\n",
       "      <td>0</td>\n",
       "      <td>0</td>\n",
       "      <td>2</td>\n",
       "      <td>0</td>\n",
       "    </tr>\n",
       "    <tr>\n",
       "      <th>2</th>\n",
       "      <td>3</td>\n",
       "      <td>78</td>\n",
       "      <td>Female</td>\n",
       "      <td>Urgent</td>\n",
       "      <td>Heart Disease</td>\n",
       "      <td>75</td>\n",
       "      <td>29</td>\n",
       "      <td>4</td>\n",
       "      <td>0</td>\n",
       "      <td>3</td>\n",
       "      <td>5</td>\n",
       "      <td>Normal</td>\n",
       "      <td>No</td>\n",
       "      <td>0</td>\n",
       "      <td>1</td>\n",
       "      <td>2</td>\n",
       "      <td>0</td>\n",
       "    </tr>\n",
       "    <tr>\n",
       "      <th>3</th>\n",
       "      <td>4</td>\n",
       "      <td>38</td>\n",
       "      <td>Male</td>\n",
       "      <td>Elective</td>\n",
       "      <td>Diabetes</td>\n",
       "      <td>77</td>\n",
       "      <td>11</td>\n",
       "      <td>2</td>\n",
       "      <td>3</td>\n",
       "      <td>4</td>\n",
       "      <td>9</td>\n",
       "      <td>NaN</td>\n",
       "      <td>Yes</td>\n",
       "      <td>1</td>\n",
       "      <td>0</td>\n",
       "      <td>0</td>\n",
       "      <td>1</td>\n",
       "    </tr>\n",
       "    <tr>\n",
       "      <th>4</th>\n",
       "      <td>5</td>\n",
       "      <td>41</td>\n",
       "      <td>Female</td>\n",
       "      <td>Urgent</td>\n",
       "      <td>Diabetes</td>\n",
       "      <td>50</td>\n",
       "      <td>25</td>\n",
       "      <td>3</td>\n",
       "      <td>4</td>\n",
       "      <td>1</td>\n",
       "      <td>3</td>\n",
       "      <td>NaN</td>\n",
       "      <td>Yes</td>\n",
       "      <td>0</td>\n",
       "      <td>0</td>\n",
       "      <td>2</td>\n",
       "      <td>1</td>\n",
       "    </tr>\n",
       "  </tbody>\n",
       "</table>\n",
       "</div>"
      ],
      "text/plain": [
       "   Patient_ID  Age  Gender Admission_Type      Diagnosis  Num_Lab_Procedures  \\\n",
       "0           1   69   Other      Emergency  Heart Disease                  33   \n",
       "1           2   32  Female         Urgent       Diabetes                  81   \n",
       "2           3   78  Female         Urgent  Heart Disease                  75   \n",
       "3           4   38    Male       Elective       Diabetes                  77   \n",
       "4           5   41  Female         Urgent       Diabetes                  50   \n",
       "\n",
       "   Num_Medications  Num_Outpatient_Visits  Num_Inpatient_Visits  \\\n",
       "0                2                      4                     1   \n",
       "1               10                      4                     4   \n",
       "2               29                      4                     0   \n",
       "3               11                      2                     3   \n",
       "4               25                      3                     4   \n",
       "\n",
       "   Num_Emergency_Visits  Num_Diagnoses A1C_Result Readmitted  En_Gender  \\\n",
       "0                     1              5        NaN        Yes          2   \n",
       "1                     1              6        NaN         No          0   \n",
       "2                     3              5     Normal         No          0   \n",
       "3                     4              9        NaN        Yes          1   \n",
       "4                     1              3        NaN        Yes          0   \n",
       "\n",
       "   En_Diagnosis  EAdmission_Type  EReadmit  \n",
       "0             1                1         1  \n",
       "1             0                2         0  \n",
       "2             1                2         0  \n",
       "3             0                0         1  \n",
       "4             0                2         1  "
      ]
     },
     "execution_count": 60,
     "metadata": {},
     "output_type": "execute_result"
    }
   ],
   "source": [
    "df.head()"
   ]
  },
  {
   "cell_type": "code",
   "execution_count": 61,
   "id": "e8f6187a-e57d-4548-8c9b-6cb1cc4c8b91",
   "metadata": {},
   "outputs": [],
   "source": [
    "df=df.drop(['A1C_Result','Gender','Admission_Type','Diagnosis','Readmitted'], axis=1)"
   ]
  },
  {
   "cell_type": "code",
   "execution_count": 62,
   "id": "0019a7ee-f14e-43e9-8bd8-fd4077b19e40",
   "metadata": {},
   "outputs": [],
   "source": [
    "df=df.drop(['Patient_ID'],axis=1)"
   ]
  },
  {
   "cell_type": "code",
   "execution_count": 63,
   "id": "2e1de3f2-e845-4e4b-88f5-e1055dd5600d",
   "metadata": {},
   "outputs": [
    {
     "data": {
      "text/html": [
       "<div>\n",
       "<style scoped>\n",
       "    .dataframe tbody tr th:only-of-type {\n",
       "        vertical-align: middle;\n",
       "    }\n",
       "\n",
       "    .dataframe tbody tr th {\n",
       "        vertical-align: top;\n",
       "    }\n",
       "\n",
       "    .dataframe thead th {\n",
       "        text-align: right;\n",
       "    }\n",
       "</style>\n",
       "<table border=\"1\" class=\"dataframe\">\n",
       "  <thead>\n",
       "    <tr style=\"text-align: right;\">\n",
       "      <th></th>\n",
       "      <th>Age</th>\n",
       "      <th>Num_Lab_Procedures</th>\n",
       "      <th>Num_Medications</th>\n",
       "      <th>Num_Outpatient_Visits</th>\n",
       "      <th>Num_Inpatient_Visits</th>\n",
       "      <th>Num_Emergency_Visits</th>\n",
       "      <th>Num_Diagnoses</th>\n",
       "      <th>En_Gender</th>\n",
       "      <th>En_Diagnosis</th>\n",
       "      <th>EAdmission_Type</th>\n",
       "      <th>EReadmit</th>\n",
       "    </tr>\n",
       "  </thead>\n",
       "  <tbody>\n",
       "    <tr>\n",
       "      <th>0</th>\n",
       "      <td>69</td>\n",
       "      <td>33</td>\n",
       "      <td>2</td>\n",
       "      <td>4</td>\n",
       "      <td>1</td>\n",
       "      <td>1</td>\n",
       "      <td>5</td>\n",
       "      <td>2</td>\n",
       "      <td>1</td>\n",
       "      <td>1</td>\n",
       "      <td>1</td>\n",
       "    </tr>\n",
       "    <tr>\n",
       "      <th>1</th>\n",
       "      <td>32</td>\n",
       "      <td>81</td>\n",
       "      <td>10</td>\n",
       "      <td>4</td>\n",
       "      <td>4</td>\n",
       "      <td>1</td>\n",
       "      <td>6</td>\n",
       "      <td>0</td>\n",
       "      <td>0</td>\n",
       "      <td>2</td>\n",
       "      <td>0</td>\n",
       "    </tr>\n",
       "    <tr>\n",
       "      <th>2</th>\n",
       "      <td>78</td>\n",
       "      <td>75</td>\n",
       "      <td>29</td>\n",
       "      <td>4</td>\n",
       "      <td>0</td>\n",
       "      <td>3</td>\n",
       "      <td>5</td>\n",
       "      <td>0</td>\n",
       "      <td>1</td>\n",
       "      <td>2</td>\n",
       "      <td>0</td>\n",
       "    </tr>\n",
       "    <tr>\n",
       "      <th>3</th>\n",
       "      <td>38</td>\n",
       "      <td>77</td>\n",
       "      <td>11</td>\n",
       "      <td>2</td>\n",
       "      <td>3</td>\n",
       "      <td>4</td>\n",
       "      <td>9</td>\n",
       "      <td>1</td>\n",
       "      <td>0</td>\n",
       "      <td>0</td>\n",
       "      <td>1</td>\n",
       "    </tr>\n",
       "    <tr>\n",
       "      <th>4</th>\n",
       "      <td>41</td>\n",
       "      <td>50</td>\n",
       "      <td>25</td>\n",
       "      <td>3</td>\n",
       "      <td>4</td>\n",
       "      <td>1</td>\n",
       "      <td>3</td>\n",
       "      <td>0</td>\n",
       "      <td>0</td>\n",
       "      <td>2</td>\n",
       "      <td>1</td>\n",
       "    </tr>\n",
       "  </tbody>\n",
       "</table>\n",
       "</div>"
      ],
      "text/plain": [
       "   Age  Num_Lab_Procedures  Num_Medications  Num_Outpatient_Visits  \\\n",
       "0   69                  33                2                      4   \n",
       "1   32                  81               10                      4   \n",
       "2   78                  75               29                      4   \n",
       "3   38                  77               11                      2   \n",
       "4   41                  50               25                      3   \n",
       "\n",
       "   Num_Inpatient_Visits  Num_Emergency_Visits  Num_Diagnoses  En_Gender  \\\n",
       "0                     1                     1              5          2   \n",
       "1                     4                     1              6          0   \n",
       "2                     0                     3              5          0   \n",
       "3                     3                     4              9          1   \n",
       "4                     4                     1              3          0   \n",
       "\n",
       "   En_Diagnosis  EAdmission_Type  EReadmit  \n",
       "0             1                1         1  \n",
       "1             0                2         0  \n",
       "2             1                2         0  \n",
       "3             0                0         1  \n",
       "4             0                2         1  "
      ]
     },
     "execution_count": 63,
     "metadata": {},
     "output_type": "execute_result"
    }
   ],
   "source": [
    "df.head()"
   ]
  },
  {
   "cell_type": "code",
   "execution_count": 64,
   "id": "992bbb1c-40c0-4b7c-9271-2f57b0d1a48f",
   "metadata": {},
   "outputs": [
    {
     "data": {
      "text/plain": [
       "(1000, 11)"
      ]
     },
     "execution_count": 64,
     "metadata": {},
     "output_type": "execute_result"
    }
   ],
   "source": [
    "df.shape"
   ]
  },
  {
   "cell_type": "code",
   "execution_count": 65,
   "id": "784cf4e6-6104-4d3f-815e-846dfbd35620",
   "metadata": {},
   "outputs": [],
   "source": [
    "corr = df.select_dtypes('number').corr()"
   ]
  },
  {
   "cell_type": "code",
   "execution_count": 66,
   "id": "a5809bc3-148f-4564-acd1-939382eed16e",
   "metadata": {},
   "outputs": [
    {
     "data": {
      "image/png": "[encoded data removed]",
      "text/plain": [
       "<Figure size 640x480 with 2 Axes>"
      ]
     },
     "metadata": {},
     "output_type": "display_data"
    }
   ],
   "source": [
    "figure,ax = plt.subplots()\n",
    "sns.heatmap(corr,annot=True,fmt=\".2f\",ax=ax)\n",
    "plt.show()"
   ]
  },
  {
   "cell_type": "code",
   "execution_count": 67,
   "id": "f828eca8-2028-4398-9d0c-ed46e7499613",
   "metadata": {},
   "outputs": [
    {
     "data": {
      "image/png": "[encoded data removed]",
      "text/plain": [
       "<Figure size 640x480 with 1 Axes>"
      ]
     },
     "metadata": {},
     "output_type": "display_data"
    }
   ],
   "source": [
    "fig,ax = plt.subplots()\n",
    "sns.boxplot(data=df,y=df['Age'],ax=ax)\n",
    "plt.show()"
   ]
  },
  {
   "cell_type": "code",
   "execution_count": 103,
   "id": "8db90d53-d2f6-4a73-929d-7ce79194ef7f",
   "metadata": {},
   "outputs": [
    {
     "data": {
      "image/png": "[encoded data removed]",
      "text/plain": [
       "<Figure size 640x480 with 1 Axes>"
      ]
     },
     "metadata": {},
     "output_type": "display_data"
    }
   ],
   "source": [
    "fig,ax = plt.subplots()\n",
    "sns.boxplot(data=df,y=df['Num_Medications'],ax=ax)\n",
    "plt.show()"
   ]
  },
  {
   "cell_type": "code",
   "execution_count": 104,
   "id": "99f48c2d-da6d-4870-8526-d948d4b698c3",
   "metadata": {},
   "outputs": [
    {
     "data": {
      "image/png": "[encoded data removed]",
      "text/plain": [
       "<Figure size 640x480 with 1 Axes>"
      ]
     },
     "metadata": {},
     "output_type": "display_data"
    }
   ],
   "source": [
    "fig,ax = plt.subplots()\n",
    "sns.boxplot(data=df,y=df['Num_Lab_Procedures'],ax=ax)\n",
    "plt.show()"
   ]
  },
  {
   "cell_type": "code",
   "execution_count": 109,
   "id": "386743e6-5b18-47c1-a4ac-31ce4193a5bc",
   "metadata": {},
   "outputs": [
    {
     "data": {
      "text/plain": [
       "<Axes: xlabel='En_Gender'>"
      ]
     },
     "execution_count": 109,
     "metadata": {},
     "output_type": "execute_result"
    },
    {
     "data": {
      "image/png": "[encoded data removed]",
      "text/plain": [
       "<Figure size 640x480 with 1 Axes>"
      ]
     },
     "metadata": {},
     "output_type": "display_data"
    }
   ],
   "source": []
  },
  {
   "cell_type": "code",
   "execution_count": 69,
   "id": "49c852ca-2097-48e5-9786-0a46f3aaaf80",
   "metadata": {},
   "outputs": [],
   "source": [
    "df = df[df['Age']<100]"
   ]
  },
  {
   "cell_type": "code",
   "execution_count": 70,
   "id": "dd53f0c5-889f-4339-9a5d-849ce9291bc0",
   "metadata": {},
   "outputs": [
    {
     "name": "stdout",
     "output_type": "stream",
     "text": [
      "<class 'pandas.core.frame.DataFrame'>\n",
      "Index: 990 entries, 0 to 999\n",
      "Data columns (total 11 columns):\n",
      " #   Column                 Non-Null Count  Dtype\n",
      "---  ------                 --------------  -----\n",
      " 0   Age                    990 non-null    int64\n",
      " 1   Num_Lab_Procedures     990 non-null    int64\n",
      " 2   Num_Medications        990 non-null    int64\n",
      " 3   Num_Outpatient_Visits  990 non-null    int64\n",
      " 4   Num_Inpatient_Visits   990 non-null    int64\n",
      " 5   Num_Emergency_Visits   990 non-null    int64\n",
      " 6   Num_Diagnoses          990 non-null    int64\n",
      " 7   En_Gender              990 non-null    int32\n",
      " 8   En_Diagnosis           990 non-null    int32\n",
      " 9   EAdmission_Type        990 non-null    int32\n",
      " 10  EReadmit               990 non-null    int32\n",
      "dtypes: int32(4), int64(7)\n",
      "memory usage: 77.3 KB\n"
     ]
    }
   ],
   "source": [
    "df.info()"
   ]
  },
  {
   "cell_type": "code",
   "execution_count": 71,
   "id": "5b49c384-422a-4fa4-a75e-85a17ad78b74",
   "metadata": {},
   "outputs": [
    {
     "data": {
      "text/plain": [
       "array([1, 0, 3, 2])"
      ]
     },
     "execution_count": 71,
     "metadata": {},
     "output_type": "execute_result"
    }
   ],
   "source": [
    "df['En_Diagnosis'].unique()"
   ]
  },
  {
   "cell_type": "code",
   "execution_count": 72,
   "id": "adec7553-9959-4615-a04d-b889a326aadf",
   "metadata": {},
   "outputs": [],
   "source": [
    "df = df[df['Num_Lab_Procedures']<95]"
   ]
  },
  {
   "cell_type": "code",
   "execution_count": 73,
   "id": "d535c16e-df37-486d-a204-aef5d5e93809",
   "metadata": {},
   "outputs": [
    {
     "data": {
      "text/plain": [
       "(943, 11)"
      ]
     },
     "execution_count": 73,
     "metadata": {},
     "output_type": "execute_result"
    }
   ],
   "source": [
    "df.shape\n",
    "#df=df.drop(['Num_Inpatient_Visits','EAdmission_Type','Num_Inpatient_Visits','Num_Lab_Procedures'],axis=1)"
   ]
  },
  {
   "cell_type": "code",
   "execution_count": 74,
   "id": "26ebc4e4-5f41-411f-91b1-87675ed8d3df",
   "metadata": {},
   "outputs": [],
   "source": [
    "df=df.drop(['Num_Diagnoses'],axis=1)"
   ]
  },
  {
   "cell_type": "code",
   "execution_count": 75,
   "id": "43865818-f0f6-4355-81dd-fe59b62bf639",
   "metadata": {},
   "outputs": [
    {
     "data": {
      "text/html": [
       "<div>\n",
       "<style scoped>\n",
       "    .dataframe tbody tr th:only-of-type {\n",
       "        vertical-align: middle;\n",
       "    }\n",
       "\n",
       "    .dataframe tbody tr th {\n",
       "        vertical-align: top;\n",
       "    }\n",
       "\n",
       "    .dataframe thead th {\n",
       "        text-align: right;\n",
       "    }\n",
       "</style>\n",
       "<table border=\"1\" class=\"dataframe\">\n",
       "  <thead>\n",
       "    <tr style=\"text-align: right;\">\n",
       "      <th></th>\n",
       "      <th>Age</th>\n",
       "      <th>Num_Lab_Procedures</th>\n",
       "      <th>Num_Medications</th>\n",
       "      <th>Num_Outpatient_Visits</th>\n",
       "      <th>Num_Inpatient_Visits</th>\n",
       "      <th>Num_Emergency_Visits</th>\n",
       "      <th>En_Gender</th>\n",
       "      <th>En_Diagnosis</th>\n",
       "      <th>EAdmission_Type</th>\n",
       "    </tr>\n",
       "  </thead>\n",
       "  <tbody>\n",
       "    <tr>\n",
       "      <th>0</th>\n",
       "      <td>69</td>\n",
       "      <td>33</td>\n",
       "      <td>2</td>\n",
       "      <td>4</td>\n",
       "      <td>1</td>\n",
       "      <td>1</td>\n",
       "      <td>2</td>\n",
       "      <td>1</td>\n",
       "      <td>1</td>\n",
       "    </tr>\n",
       "    <tr>\n",
       "      <th>1</th>\n",
       "      <td>32</td>\n",
       "      <td>81</td>\n",
       "      <td>10</td>\n",
       "      <td>4</td>\n",
       "      <td>4</td>\n",
       "      <td>1</td>\n",
       "      <td>0</td>\n",
       "      <td>0</td>\n",
       "      <td>2</td>\n",
       "    </tr>\n",
       "    <tr>\n",
       "      <th>2</th>\n",
       "      <td>78</td>\n",
       "      <td>75</td>\n",
       "      <td>29</td>\n",
       "      <td>4</td>\n",
       "      <td>0</td>\n",
       "      <td>3</td>\n",
       "      <td>0</td>\n",
       "      <td>1</td>\n",
       "      <td>2</td>\n",
       "    </tr>\n",
       "    <tr>\n",
       "      <th>3</th>\n",
       "      <td>38</td>\n",
       "      <td>77</td>\n",
       "      <td>11</td>\n",
       "      <td>2</td>\n",
       "      <td>3</td>\n",
       "      <td>4</td>\n",
       "      <td>1</td>\n",
       "      <td>0</td>\n",
       "      <td>0</td>\n",
       "    </tr>\n",
       "    <tr>\n",
       "      <th>4</th>\n",
       "      <td>41</td>\n",
       "      <td>50</td>\n",
       "      <td>25</td>\n",
       "      <td>3</td>\n",
       "      <td>4</td>\n",
       "      <td>1</td>\n",
       "      <td>0</td>\n",
       "      <td>0</td>\n",
       "      <td>2</td>\n",
       "    </tr>\n",
       "    <tr>\n",
       "      <th>...</th>\n",
       "      <td>...</td>\n",
       "      <td>...</td>\n",
       "      <td>...</td>\n",
       "      <td>...</td>\n",
       "      <td>...</td>\n",
       "      <td>...</td>\n",
       "      <td>...</td>\n",
       "      <td>...</td>\n",
       "      <td>...</td>\n",
       "    </tr>\n",
       "    <tr>\n",
       "      <th>995</th>\n",
       "      <td>21</td>\n",
       "      <td>68</td>\n",
       "      <td>10</td>\n",
       "      <td>2</td>\n",
       "      <td>3</td>\n",
       "      <td>2</td>\n",
       "      <td>0</td>\n",
       "      <td>1</td>\n",
       "      <td>1</td>\n",
       "    </tr>\n",
       "    <tr>\n",
       "      <th>996</th>\n",
       "      <td>43</td>\n",
       "      <td>61</td>\n",
       "      <td>7</td>\n",
       "      <td>0</td>\n",
       "      <td>4</td>\n",
       "      <td>0</td>\n",
       "      <td>0</td>\n",
       "      <td>1</td>\n",
       "      <td>1</td>\n",
       "    </tr>\n",
       "    <tr>\n",
       "      <th>997</th>\n",
       "      <td>75</td>\n",
       "      <td>29</td>\n",
       "      <td>13</td>\n",
       "      <td>3</td>\n",
       "      <td>1</td>\n",
       "      <td>4</td>\n",
       "      <td>1</td>\n",
       "      <td>0</td>\n",
       "      <td>2</td>\n",
       "    </tr>\n",
       "    <tr>\n",
       "      <th>998</th>\n",
       "      <td>46</td>\n",
       "      <td>19</td>\n",
       "      <td>20</td>\n",
       "      <td>1</td>\n",
       "      <td>4</td>\n",
       "      <td>4</td>\n",
       "      <td>2</td>\n",
       "      <td>3</td>\n",
       "      <td>0</td>\n",
       "    </tr>\n",
       "    <tr>\n",
       "      <th>999</th>\n",
       "      <td>54</td>\n",
       "      <td>43</td>\n",
       "      <td>28</td>\n",
       "      <td>2</td>\n",
       "      <td>0</td>\n",
       "      <td>4</td>\n",
       "      <td>1</td>\n",
       "      <td>3</td>\n",
       "      <td>0</td>\n",
       "    </tr>\n",
       "  </tbody>\n",
       "</table>\n",
       "<p>943 rows × 9 columns</p>\n",
       "</div>"
      ],
      "text/plain": [
       "     Age  Num_Lab_Procedures  Num_Medications  Num_Outpatient_Visits  \\\n",
       "0     69                  33                2                      4   \n",
       "1     32                  81               10                      4   \n",
       "2     78                  75               29                      4   \n",
       "3     38                  77               11                      2   \n",
       "4     41                  50               25                      3   \n",
       "..   ...                 ...              ...                    ...   \n",
       "995   21                  68               10                      2   \n",
       "996   43                  61                7                      0   \n",
       "997   75                  29               13                      3   \n",
       "998   46                  19               20                      1   \n",
       "999   54                  43               28                      2   \n",
       "\n",
       "     Num_Inpatient_Visits  Num_Emergency_Visits  En_Gender  En_Diagnosis  \\\n",
       "0                       1                     1          2             1   \n",
       "1                       4                     1          0             0   \n",
       "2                       0                     3          0             1   \n",
       "3                       3                     4          1             0   \n",
       "4                       4                     1          0             0   \n",
       "..                    ...                   ...        ...           ...   \n",
       "995                     3                     2          0             1   \n",
       "996                     4                     0          0             1   \n",
       "997                     1                     4          1             0   \n",
       "998                     4                     4          2             3   \n",
       "999                     0                     4          1             3   \n",
       "\n",
       "     EAdmission_Type  \n",
       "0                  1  \n",
       "1                  2  \n",
       "2                  2  \n",
       "3                  0  \n",
       "4                  2  \n",
       "..               ...  \n",
       "995                1  \n",
       "996                1  \n",
       "997                2  \n",
       "998                0  \n",
       "999                0  \n",
       "\n",
       "[943 rows x 9 columns]"
      ]
     },
     "execution_count": 75,
     "metadata": {},
     "output_type": "execute_result"
    }
   ],
   "source": [
    "X=df.iloc[:,0:-1]\n",
    "Y=df.iloc[:,-1]\n",
    "X"
   ]
  },
  {
   "cell_type": "code",
   "execution_count": 76,
   "id": "f2be57eb-8713-4374-9b5f-dc4404413b9c",
   "metadata": {},
   "outputs": [],
   "source": [
    "from sklearn.model_selection import train_test_split,GridSearchCV, RandomizedSearchCV"
   ]
  },
  {
   "cell_type": "code",
   "execution_count": 77,
   "id": "f2e647eb-c759-4075-9062-eaebf28a0684",
   "metadata": {},
   "outputs": [],
   "source": [
    "X_train, X_test, y_train, y_test = train_test_split(X, Y, test_size = 1/4, random_state = 52)"
   ]
  },
  {
   "cell_type": "code",
   "execution_count": 78,
   "id": "f339ddd0-b502-4a77-af62-ca21b46e0423",
   "metadata": {},
   "outputs": [
    {
     "name": "stderr",
     "output_type": "stream",
     "text": [
      "C:\\Python311\\Lib\\site-packages\\sklearn\\linear_model\\_logistic.py:460: ConvergenceWarning: lbfgs failed to converge (status=1):\n",
      "STOP: TOTAL NO. of ITERATIONS REACHED LIMIT.\n",
      "\n",
      "Increase the number of iterations (max_iter) or scale the data as shown in:\n",
      "    https://scikit-learn.org/stable/modules/preprocessing.html\n",
      "Please also refer to the documentation for alternative solver options:\n",
      "    https://scikit-learn.org/stable/modules/linear_model.html#logistic-regression\n",
      "  n_iter_i = _check_optimize_result(\n"
     ]
    },
    {
     "data": {
      "text/plain": [
       "0.5084745762711864"
      ]
     },
     "execution_count": 78,
     "metadata": {},
     "output_type": "execute_result"
    }
   ],
   "source": [
    "from sklearn.linear_model import LogisticRegression\n",
    "from sklearn.metrics import accuracy_score\n",
    "model = LogisticRegression()\n",
    "clf=model.fit(X_train,y_train)\n",
    "y_pred = model.predict(X_test)\n",
    "#clf.score(X,Y)*100\n",
    "accuracy_score(y_test,y_pred)"
   ]
  },
  {
   "cell_type": "code",
   "execution_count": 79,
   "id": "f62bdfd7-bf99-4bb2-af92-3bc0e64d89b2",
   "metadata": {},
   "outputs": [
    {
     "name": "stdout",
     "output_type": "stream",
     "text": [
      "0.46682649086005396\n",
      "{'penalty': 'l2'}\n"
     ]
    },
    {
     "name": "stderr",
     "output_type": "stream",
     "text": [
      "C:\\Python311\\Lib\\site-packages\\sklearn\\linear_model\\_logistic.py:460: ConvergenceWarning: lbfgs failed to converge (status=1):\n",
      "STOP: TOTAL NO. of ITERATIONS REACHED LIMIT.\n",
      "\n",
      "Increase the number of iterations (max_iter) or scale the data as shown in:\n",
      "    https://scikit-learn.org/stable/modules/preprocessing.html\n",
      "Please also refer to the documentation for alternative solver options:\n",
      "    https://scikit-learn.org/stable/modules/linear_model.html#logistic-regression\n",
      "  n_iter_i = _check_optimize_result(\n",
      "C:\\Python311\\Lib\\site-packages\\sklearn\\linear_model\\_logistic.py:460: ConvergenceWarning: lbfgs failed to converge (status=1):\n",
      "STOP: TOTAL NO. of ITERATIONS REACHED LIMIT.\n",
      "\n",
      "Increase the number of iterations (max_iter) or scale the data as shown in:\n",
      "    https://scikit-learn.org/stable/modules/preprocessing.html\n",
      "Please also refer to the documentation for alternative solver options:\n",
      "    https://scikit-learn.org/stable/modules/linear_model.html#logistic-regression\n",
      "  n_iter_i = _check_optimize_result(\n",
      "C:\\Python311\\Lib\\site-packages\\sklearn\\linear_model\\_logistic.py:460: ConvergenceWarning: lbfgs failed to converge (status=1):\n",
      "STOP: TOTAL NO. of ITERATIONS REACHED LIMIT.\n",
      "\n",
      "Increase the number of iterations (max_iter) or scale the data as shown in:\n",
      "    https://scikit-learn.org/stable/modules/preprocessing.html\n",
      "Please also refer to the documentation for alternative solver options:\n",
      "    https://scikit-learn.org/stable/modules/linear_model.html#logistic-regression\n",
      "  n_iter_i = _check_optimize_result(\n",
      "C:\\Python311\\Lib\\site-packages\\sklearn\\linear_model\\_logistic.py:460: ConvergenceWarning: lbfgs failed to converge (status=1):\n",
      "STOP: TOTAL NO. of ITERATIONS REACHED LIMIT.\n",
      "\n",
      "Increase the number of iterations (max_iter) or scale the data as shown in:\n",
      "    https://scikit-learn.org/stable/modules/preprocessing.html\n",
      "Please also refer to the documentation for alternative solver options:\n",
      "    https://scikit-learn.org/stable/modules/linear_model.html#logistic-regression\n",
      "  n_iter_i = _check_optimize_result(\n",
      "C:\\Python311\\Lib\\site-packages\\sklearn\\linear_model\\_logistic.py:460: ConvergenceWarning: lbfgs failed to converge (status=1):\n",
      "STOP: TOTAL NO. of ITERATIONS REACHED LIMIT.\n",
      "\n",
      "Increase the number of iterations (max_iter) or scale the data as shown in:\n",
      "    https://scikit-learn.org/stable/modules/preprocessing.html\n",
      "Please also refer to the documentation for alternative solver options:\n",
      "    https://scikit-learn.org/stable/modules/linear_model.html#logistic-regression\n",
      "  n_iter_i = _check_optimize_result(\n"
     ]
    }
   ],
   "source": [
    "grid = {'penalty':['l2'],}\n",
    "grid_rf = GridSearchCV(estimator=clf,param_grid=grid,scoring='accuracy',return_train_score=True)\n",
    "grid_rf.fit(X_train,y_train)\n",
    "print(grid_rf.best_score_)\n",
    "print(grid_rf.best_params_)"
   ]
  },
  {
   "cell_type": "code",
   "execution_count": 80,
   "id": "e17dce02-e2ca-4396-81d4-aa2bef52b323",
   "metadata": {},
   "outputs": [],
   "source": [
    "from sklearn.ensemble import GradientBoostingClassifier, RandomForestClassifier"
   ]
  },
  {
   "cell_type": "code",
   "execution_count": 81,
   "id": "291cb243-4cea-42ef-9598-38f0d1c7250a",
   "metadata": {},
   "outputs": [
    {
     "name": "stdout",
     "output_type": "stream",
     "text": [
      "GBoost Accuracy: 0.5338983050847458\n"
     ]
    }
   ],
   "source": [
    "xb = GradientBoostingClassifier(n_estimators = 10, random_state=6)\n",
    "xb.fit(X_train, y_train)\n",
    "xbpred = xb.predict(X_test)\n",
    "accuracy = accuracy_score(y_test,xbpred)\n",
    "print(\"GBoost Accuracy:\", accuracy)"
   ]
  },
  {
   "cell_type": "code",
   "execution_count": 82,
   "id": "2178a795-67c2-4940-82d6-68b71374b725",
   "metadata": {},
   "outputs": [],
   "source": [
    "from sklearn.preprocessing import StandardScaler\n",
    "from sklearn.svm import SVC\n",
    "sc = StandardScaler()\n",
    "X_train = sc.fit_transform(X_train)\n",
    "X_test = sc.transform(X_test)"
   ]
  },
  {
   "cell_type": "code",
   "execution_count": 84,
   "id": "3c34a032-449c-47cc-94bc-04ac5a5efd1b",
   "metadata": {},
   "outputs": [
    {
     "data": {
      "text/plain": [
       "0.5508474576271186"
      ]
     },
     "execution_count": 84,
     "metadata": {},
     "output_type": "execute_result"
    }
   ],
   "source": [
    "rf=RandomForestClassifier()\n",
    "rf.fit(X_train, y_train)\n",
    "xbpred = rf.predict(X_test)\n",
    "accuracy_score(y_test,xbpred)"
   ]
  },
  {
   "cell_type": "code",
   "execution_count": 85,
   "id": "b6fd5314-da58-4fd9-85fb-26d30355b728",
   "metadata": {},
   "outputs": [
    {
     "data": {
      "text/plain": [
       "EReadmit\n",
       "0    474\n",
       "1    469\n",
       "dtype: int64"
      ]
     },
     "execution_count": 85,
     "metadata": {},
     "output_type": "execute_result"
    }
   ],
   "source": [
    "df.groupby(['EReadmit']).size()"
   ]
  },
  {
   "cell_type": "code",
   "execution_count": 86,
   "id": "e8dfa776-e4de-43d7-99a6-30c49136f60e",
   "metadata": {},
   "outputs": [
    {
     "data": {
      "text/html": [
       "<style>#sk-container-id-3 {color: black;}#sk-container-id-3 pre{padding: 0;}#sk-container-id-3 div.sk-toggleable {background-color: white;}#sk-container-id-3 label.sk-toggleable__label {cursor: pointer;display: block;width: 100%;margin-bottom: 0;padding: 0.3em;box-sizing: border-box;text-align: center;}#sk-container-id-3 label.sk-toggleable__label-arrow:before {content: \"▸\";float: left;margin-right: 0.25em;color: #696969;}#sk-container-id-3 label.sk-toggleable__label-arrow:hover:before {color: black;}#sk-container-id-3 div.sk-estimator:hover label.sk-toggleable__label-arrow:before {color: black;}#sk-container-id-3 div.sk-toggleable__content {max-height: 0;max-width: 0;overflow: hidden;text-align: left;background-color: #f0f8ff;}#sk-container-id-3 div.sk-toggleable__content pre {margin: 0.2em;color: black;border-radius: 0.25em;background-color: #f0f8ff;}#sk-container-id-3 input.sk-toggleable__control:checked~div.sk-toggleable__content {max-height: 200px;max-width: 100%;overflow: auto;}#sk-container-id-3 input.sk-toggleable__control:checked~label.sk-toggleable__label-arrow:before {content: \"▾\";}#sk-container-id-3 div.sk-estimator input.sk-toggleable__control:checked~label.sk-toggleable__label {background-color: #d4ebff;}#sk-container-id-3 div.sk-label input.sk-toggleable__control:checked~label.sk-toggleable__label {background-color: #d4ebff;}#sk-container-id-3 input.sk-hidden--visually {border: 0;clip: rect(1px 1px 1px 1px);clip: rect(1px, 1px, 1px, 1px);height: 1px;margin: -1px;overflow: hidden;padding: 0;position: absolute;width: 1px;}#sk-container-id-3 div.sk-estimator {font-family: monospace;background-color: #f0f8ff;border: 1px dotted black;border-radius: 0.25em;box-sizing: border-box;margin-bottom: 0.5em;}#sk-container-id-3 div.sk-estimator:hover {background-color: #d4ebff;}#sk-container-id-3 div.sk-parallel-item::after {content: \"\";width: 100%;border-bottom: 1px solid gray;flex-grow: 1;}#sk-container-id-3 div.sk-label:hover label.sk-toggleable__label {background-color: #d4ebff;}#sk-container-id-3 div.sk-serial::before {content: \"\";position: absolute;border-left: 1px solid gray;box-sizing: border-box;top: 0;bottom: 0;left: 50%;z-index: 0;}#sk-container-id-3 div.sk-serial {display: flex;flex-direction: column;align-items: center;background-color: white;padding-right: 0.2em;padding-left: 0.2em;position: relative;}#sk-container-id-3 div.sk-item {position: relative;z-index: 1;}#sk-container-id-3 div.sk-parallel {display: flex;align-items: stretch;justify-content: center;background-color: white;position: relative;}#sk-container-id-3 div.sk-item::before, #sk-container-id-3 div.sk-parallel-item::before {content: \"\";position: absolute;border-left: 1px solid gray;box-sizing: border-box;top: 0;bottom: 0;left: 50%;z-index: -1;}#sk-container-id-3 div.sk-parallel-item {display: flex;flex-direction: column;z-index: 1;position: relative;background-color: white;}#sk-container-id-3 div.sk-parallel-item:first-child::after {align-self: flex-end;width: 50%;}#sk-container-id-3 div.sk-parallel-item:last-child::after {align-self: flex-start;width: 50%;}#sk-container-id-3 div.sk-parallel-item:only-child::after {width: 0;}#sk-container-id-3 div.sk-dashed-wrapped {border: 1px dashed gray;margin: 0 0.4em 0.5em 0.4em;box-sizing: border-box;padding-bottom: 0.4em;background-color: white;}#sk-container-id-3 div.sk-label label {font-family: monospace;font-weight: bold;display: inline-block;line-height: 1.2em;}#sk-container-id-3 div.sk-label-container {text-align: center;}#sk-container-id-3 div.sk-container {/* jupyter's `normalize.less` sets `[hidden] { display: none; }` but bootstrap.min.css set `[hidden] { display: none !important; }` so we also need the `!important` here to be able to override the default hidden behavior on the sphinx rendered scikit-learn.org. See: https://github.com/scikit-learn/scikit-learn/issues/21755 */display: inline-block !important;position: relative;}#sk-container-id-3 div.sk-text-repr-fallback {display: none;}</style><div id=\"sk-container-id-3\" class=\"sk-top-container\"><div class=\"sk-text-repr-fallback\"><pre>SVC(random_state=42)</pre><b>In a Jupyter environment, please rerun this cell to show the HTML representation or trust the notebook. <br />On GitHub, the HTML representation is unable to render, please try loading this page with nbviewer.org.</b></div><div class=\"sk-container\" hidden><div class=\"sk-item\"><div class=\"sk-estimator sk-toggleable\"><input class=\"sk-toggleable__control sk-hidden--visually\" id=\"sk-estimator-id-3\" type=\"checkbox\" checked><label for=\"sk-estimator-id-3\" class=\"sk-toggleable__label sk-toggleable__label-arrow\">SVC</label><div class=\"sk-toggleable__content\"><pre>SVC(random_state=42)</pre></div></div></div></div></div>"
      ],
      "text/plain": [
       "SVC(random_state=42)"
      ]
     },
     "execution_count": 86,
     "metadata": {},
     "output_type": "execute_result"
    }
   ],
   "source": [
    "cls = SVC(random_state = 42)\n",
    "cls.fit(X_train,y_train)"
   ]
  },
  {
   "cell_type": "code",
   "execution_count": 87,
   "id": "aef3c8e3-122e-4df1-a95c-68a02b8bc315",
   "metadata": {},
   "outputs": [
    {
     "data": {
      "text/plain": [
       "0.4830508474576271"
      ]
     },
     "execution_count": 87,
     "metadata": {},
     "output_type": "execute_result"
    }
   ],
   "source": [
    "ypred = cls.predict(X_test)\n",
    "accuracy_score(y_test,ypred)\n"
   ]
  },
  {
   "cell_type": "code",
   "execution_count": 88,
   "id": "2e9974a1-4157-48a2-84bb-3909cb22fce9",
   "metadata": {},
   "outputs": [
    {
     "data": {
      "text/plain": [
       "0.5254237288135594"
      ]
     },
     "execution_count": 88,
     "metadata": {},
     "output_type": "execute_result"
    }
   ],
   "source": [
    "from sklearn.neighbors import KNeighborsClassifier\n",
    "knn = KNeighborsClassifier()\n",
    "knn.fit(X_train,y_train)\n",
    "kpred = knn.predict(X_test)\n",
    "accuracy = accuracy_score(y_test,kpred)\n",
    "accuracy"
   ]
  },
  {
   "cell_type": "code",
   "execution_count": 89,
   "id": "ab9d38e6-577a-42af-b10c-9c854aa4bf5d",
   "metadata": {},
   "outputs": [
    {
     "data": {
      "text/plain": [
       "-0.011397587835632939"
      ]
     },
     "execution_count": 89,
     "metadata": {},
     "output_type": "execute_result"
    }
   ],
   "source": [
    "from sklearn.linear_model import Lasso, Ridge\n",
    "#import r2_score\n",
    "from sklearn.metrics import r2_score\n",
    "lasso = Lasso()\n",
    "lasso.fit(X_train, y_train)\n",
    "x_pred_lasso_test = lasso.predict(X_test)\n",
    "r2_score(y_test, x_pred_lasso_test)\n",
    "\n",
    "rid = Ridge()\n",
    "rid.fit(X_train, y_train)\n",
    "x_pred_lasso_test = rid.predict(X_test)\n",
    "r2_score(y_test, x_pred_lasso_test)"
   ]
  },
  {
   "cell_type": "code",
   "execution_count": 90,
   "id": "a507427a-44ca-4873-85e1-a86d237bea0f",
   "metadata": {},
   "outputs": [],
   "source": [
    "from sklearn.tree import DecisionTreeClassifier"
   ]
  },
  {
   "cell_type": "code",
   "execution_count": 91,
   "id": "e7f983fd-011d-4fe0-804e-23b80b86d1ca",
   "metadata": {},
   "outputs": [
    {
     "name": "stdout",
     "output_type": "stream",
     "text": [
      "DTC Accuracy: 0.4703389830508475\n"
     ]
    }
   ],
   "source": [
    "clf = DecisionTreeClassifier() \n",
    "clf.fit(X_train, y_train) \n",
    "# Predict the classes of the testing data \n",
    "y_pred = clf.predict(X_test)\n",
    "# Calculate the accuracy of the classifier\n",
    "accuracy = accuracy_score(y_test, y_pred) \n",
    "print(\"DTC Accuracy:\", accuracy)"
   ]
  },
  {
   "cell_type": "code",
   "execution_count": 92,
   "id": "a62ac8ae-cf46-409a-be66-f2fcaeca583d",
   "metadata": {},
   "outputs": [],
   "source": [
    "from imblearn.over_sampling import SMOTE"
   ]
  },
  {
   "cell_type": "code",
   "execution_count": 93,
   "id": "a6d07d86-4a1e-4678-9cf3-7801e0c9e2a7",
   "metadata": {},
   "outputs": [],
   "source": [
    "from collections import Counter"
   ]
  },
  {
   "cell_type": "code",
   "execution_count": 94,
   "id": "0b9c83be-ab28-4d45-add5-fe82ce381f89",
   "metadata": {},
   "outputs": [
    {
     "name": "stdout",
     "output_type": "stream",
     "text": [
      "Counter({0: 365, 1: 342})\n"
     ]
    }
   ],
   "source": [
    "print(Counter(y_train))"
   ]
  },
  {
   "cell_type": "code",
   "execution_count": 95,
   "id": "30fe39d2-6ae9-4367-8533-8516fe208a50",
   "metadata": {},
   "outputs": [],
   "source": [
    "smt = SMOTE(k_neighbors=5,random_state=42)"
   ]
  },
  {
   "cell_type": "code",
   "execution_count": 96,
   "id": "35444ff3-c5c4-496d-8fb4-642121b9fb9f",
   "metadata": {},
   "outputs": [],
   "source": [
    "X_train_sm, Y_train_sm = smt.fit_resample(X_train,y_train)"
   ]
  },
  {
   "cell_type": "code",
   "execution_count": 97,
   "id": "03a1a68b-6b8a-4483-bbf0-f6a90fddb666",
   "metadata": {},
   "outputs": [
    {
     "name": "stdout",
     "output_type": "stream",
     "text": [
      "Counter({1: 365, 0: 365})\n"
     ]
    }
   ],
   "source": [
    "print(Counter(Y_train_sm))"
   ]
  },
  {
   "cell_type": "code",
   "execution_count": 98,
   "id": "a12b8ae2-3e73-433f-a1d9-92f83bea0bf7",
   "metadata": {},
   "outputs": [
    {
     "data": {
      "text/html": [
       "<style>#sk-container-id-4 {color: black;}#sk-container-id-4 pre{padding: 0;}#sk-container-id-4 div.sk-toggleable {background-color: white;}#sk-container-id-4 label.sk-toggleable__label {cursor: pointer;display: block;width: 100%;margin-bottom: 0;padding: 0.3em;box-sizing: border-box;text-align: center;}#sk-container-id-4 label.sk-toggleable__label-arrow:before {content: \"▸\";float: left;margin-right: 0.25em;color: #696969;}#sk-container-id-4 label.sk-toggleable__label-arrow:hover:before {color: black;}#sk-container-id-4 div.sk-estimator:hover label.sk-toggleable__label-arrow:before {color: black;}#sk-container-id-4 div.sk-toggleable__content {max-height: 0;max-width: 0;overflow: hidden;text-align: left;background-color: #f0f8ff;}#sk-container-id-4 div.sk-toggleable__content pre {margin: 0.2em;color: black;border-radius: 0.25em;background-color: #f0f8ff;}#sk-container-id-4 input.sk-toggleable__control:checked~div.sk-toggleable__content {max-height: 200px;max-width: 100%;overflow: auto;}#sk-container-id-4 input.sk-toggleable__control:checked~label.sk-toggleable__label-arrow:before {content: \"▾\";}#sk-container-id-4 div.sk-estimator input.sk-toggleable__control:checked~label.sk-toggleable__label {background-color: #d4ebff;}#sk-container-id-4 div.sk-label input.sk-toggleable__control:checked~label.sk-toggleable__label {background-color: #d4ebff;}#sk-container-id-4 input.sk-hidden--visually {border: 0;clip: rect(1px 1px 1px 1px);clip: rect(1px, 1px, 1px, 1px);height: 1px;margin: -1px;overflow: hidden;padding: 0;position: absolute;width: 1px;}#sk-container-id-4 div.sk-estimator {font-family: monospace;background-color: #f0f8ff;border: 1px dotted black;border-radius: 0.25em;box-sizing: border-box;margin-bottom: 0.5em;}#sk-container-id-4 div.sk-estimator:hover {background-color: #d4ebff;}#sk-container-id-4 div.sk-parallel-item::after {content: \"\";width: 100%;border-bottom: 1px solid gray;flex-grow: 1;}#sk-container-id-4 div.sk-label:hover label.sk-toggleable__label {background-color: #d4ebff;}#sk-container-id-4 div.sk-serial::before {content: \"\";position: absolute;border-left: 1px solid gray;box-sizing: border-box;top: 0;bottom: 0;left: 50%;z-index: 0;}#sk-container-id-4 div.sk-serial {display: flex;flex-direction: column;align-items: center;background-color: white;padding-right: 0.2em;padding-left: 0.2em;position: relative;}#sk-container-id-4 div.sk-item {position: relative;z-index: 1;}#sk-container-id-4 div.sk-parallel {display: flex;align-items: stretch;justify-content: center;background-color: white;position: relative;}#sk-container-id-4 div.sk-item::before, #sk-container-id-4 div.sk-parallel-item::before {content: \"\";position: absolute;border-left: 1px solid gray;box-sizing: border-box;top: 0;bottom: 0;left: 50%;z-index: -1;}#sk-container-id-4 div.sk-parallel-item {display: flex;flex-direction: column;z-index: 1;position: relative;background-color: white;}#sk-container-id-4 div.sk-parallel-item:first-child::after {align-self: flex-end;width: 50%;}#sk-container-id-4 div.sk-parallel-item:last-child::after {align-self: flex-start;width: 50%;}#sk-container-id-4 div.sk-parallel-item:only-child::after {width: 0;}#sk-container-id-4 div.sk-dashed-wrapped {border: 1px dashed gray;margin: 0 0.4em 0.5em 0.4em;box-sizing: border-box;padding-bottom: 0.4em;background-color: white;}#sk-container-id-4 div.sk-label label {font-family: monospace;font-weight: bold;display: inline-block;line-height: 1.2em;}#sk-container-id-4 div.sk-label-container {text-align: center;}#sk-container-id-4 div.sk-container {/* jupyter's `normalize.less` sets `[hidden] { display: none; }` but bootstrap.min.css set `[hidden] { display: none !important; }` so we also need the `!important` here to be able to override the default hidden behavior on the sphinx rendered scikit-learn.org. See: https://github.com/scikit-learn/scikit-learn/issues/21755 */display: inline-block !important;position: relative;}#sk-container-id-4 div.sk-text-repr-fallback {display: none;}</style><div id=\"sk-container-id-4\" class=\"sk-top-container\"><div class=\"sk-text-repr-fallback\"><pre>DecisionTreeClassifier()</pre><b>In a Jupyter environment, please rerun this cell to show the HTML representation or trust the notebook. <br />On GitHub, the HTML representation is unable to render, please try loading this page with nbviewer.org.</b></div><div class=\"sk-container\" hidden><div class=\"sk-item\"><div class=\"sk-estimator sk-toggleable\"><input class=\"sk-toggleable__control sk-hidden--visually\" id=\"sk-estimator-id-4\" type=\"checkbox\" checked><label for=\"sk-estimator-id-4\" class=\"sk-toggleable__label sk-toggleable__label-arrow\">DecisionTreeClassifier</label><div class=\"sk-toggleable__content\"><pre>DecisionTreeClassifier()</pre></div></div></div></div></div>"
      ],
      "text/plain": [
       "DecisionTreeClassifier()"
      ]
     },
     "execution_count": 98,
     "metadata": {},
     "output_type": "execute_result"
    }
   ],
   "source": [
    "clf.fit(X_train_sm, Y_train_sm) "
   ]
  },
  {
   "cell_type": "code",
   "execution_count": null,
   "id": "86fcb6ab-f6a8-4f74-98d9-e09aadb0d0e4",
   "metadata": {},
   "outputs": [],
   "source": []
  },
  {
   "cell_type": "code",
   "execution_count": 99,
   "id": "518dda8f-476f-444f-986d-70f754017f78",
   "metadata": {},
   "outputs": [],
   "source": [
    "accuracy = accuracy_score(y_test, y_pred) "
   ]
  },
  {
   "cell_type": "code",
   "execution_count": 100,
   "id": "c02e0fae-2410-413a-942c-cc3c107deb0f",
   "metadata": {},
   "outputs": [
    {
     "data": {
      "text/plain": [
       "0.4703389830508475"
      ]
     },
     "execution_count": 100,
     "metadata": {},
     "output_type": "execute_result"
    }
   ],
   "source": [
    "accuracy"
   ]
  },
  {
   "cell_type": "code",
   "execution_count": 101,
   "id": "c9eb678f-f128-4a62-8105-281855e5cae0",
   "metadata": {},
   "outputs": [
    {
     "data": {
      "text/plain": [
       "-0.005851332803583187"
      ]
     },
     "execution_count": 101,
     "metadata": {},
     "output_type": "execute_result"
    }
   ],
   "source": [
    "lasso.fit(X_train_sm, Y_train_sm)\n",
    "x_pred_lasso_test = lasso.predict(X_test)\n",
    "r2_score(y_test, x_pred_lasso_test)"
   ]
  },
  {
   "cell_type": "code",
   "execution_count": 102,
   "id": "9cde8331-0b03-42a5-b7b1-a709d1322f78",
   "metadata": {},
   "outputs": [
    {
     "name": "stdout",
     "output_type": "stream",
     "text": [
      "GBoost Accuracy: 0.5423728813559322\n"
     ]
    }
   ],
   "source": [
    "xb.fit(X_train_sm, Y_train_sm)\n",
    "xbpred = xb.predict(X_test)\n",
    "accuracy = accuracy_score(y_test,xbpred)\n",
    "print(\"GBoost Accuracy:\", accuracy)\n"
   ]
  },
  {
   "cell_type": "code",
   "execution_count": null,
   "id": "56ba2367-5821-474c-8967-775dc7d4916d",
   "metadata": {},
   "outputs": [],
   "source": []
  }
 ],
 "metadata": {
  "kernelspec": {
   "display_name": "Python 3 (ipykernel)",
   "language": "python",
   "name": "python3"
  },
  "language_info": {
   "codemirror_mode": {
    "name": "ipython",
    "version": 3
   },
   "file_extension": ".py",
   "mimetype": "text/x-python",
   "name": "python",
   "nbconvert_exporter": "python",
   "pygments_lexer": "ipython3",
   "version": "3.11.5"
  }
 },
 "nbformat": 4,
 "nbformat_minor": 5
}
